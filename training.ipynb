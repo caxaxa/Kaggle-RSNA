{
 "cells": [
  {
   "cell_type": "code",
   "execution_count": 2,
   "id": "096c3486-43e1-4aa8-8a9c-841cf30cf0ad",
   "metadata": {},
   "outputs": [
    {
     "name": "stdout",
     "output_type": "stream",
     "text": [
      "Collecting fsspec==2024.9.0\n",
      "  Using cached fsspec-2024.9.0-py3-none-any.whl.metadata (11 kB)\n",
      "Using cached fsspec-2024.9.0-py3-none-any.whl (179 kB)\n",
      "Installing collected packages: fsspec\n",
      "Successfully installed fsspec-2024.9.0\n"
     ]
    }
   ],
   "source": [
    "#Good Practive:\n",
    "!rm -rf /opt/conda/lib/python3.10/site-packages/fsspec*\n",
    "!pip install fsspec==2024.9.0 --force-reinstall --no-deps"
   ]
  },
  {
   "cell_type": "code",
   "execution_count": null,
   "id": "a614a47a-ad8a-4c21-96fe-45fb59758156",
   "metadata": {},
   "outputs": [],
   "source": []
  },
  {
   "cell_type": "code",
   "execution_count": 3,
   "id": "6b729b1b-ff30-4143-92dc-6b2b164f95d9",
   "metadata": {},
   "outputs": [],
   "source": [
    "#Kaggle Files\n",
    "rd = './kaggle-files'"
   ]
  },
  {
   "cell_type": "code",
   "execution_count": 4,
   "id": "9873c65d-1672-4f76-8baa-a346bd3433f7",
   "metadata": {},
   "outputs": [],
   "source": [
    "#test\n"
   ]
  },
  {
   "cell_type": "code",
   "execution_count": null,
   "id": "ba8c0484-c187-4448-a396-a462dccafa2c",
   "metadata": {},
   "outputs": [],
   "source": []
  }
 ],
 "metadata": {
  "kernelspec": {
   "display_name": "Python 3 (ipykernel)",
   "language": "python",
   "name": "python3"
  },
  "language_info": {
   "codemirror_mode": {
    "name": "ipython",
    "version": 3
   },
   "file_extension": ".py",
   "mimetype": "text/x-python",
   "name": "python",
   "nbconvert_exporter": "python",
   "pygments_lexer": "ipython3",
   "version": "3.10.14"
  }
 },
 "nbformat": 4,
 "nbformat_minor": 5
}
